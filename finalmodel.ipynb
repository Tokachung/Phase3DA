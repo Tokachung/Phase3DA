{
 "cells": [
  {
   "cell_type": "code",
   "execution_count": 1,
   "metadata": {},
   "outputs": [],
   "source": [
    "import tensorflow as tf\n",
    "from tensorflow import keras\n",
    "from keras import datasets, layers, models\n",
    "\n",
    "import numpy as np\n",
    "from keras.models import Sequential\n",
    "from keras.layers import Dense, Flatten, Conv2D, MaxPooling2D, Dropout\n",
    "import matplotlib.pyplot as plt\n",
    "\n",
    "import keras_tuner as kt"
   ]
  },
  {
   "cell_type": "code",
   "execution_count": 2,
   "metadata": {},
   "outputs": [],
   "source": [
    "(X_train, y_train), (X_test, y_test) = datasets.cifar10.load_data()"
   ]
  },
  {
   "cell_type": "code",
   "execution_count": 3,
   "metadata": {},
   "outputs": [],
   "source": [
    "train_index = np.random.randint(0,50000, size = 10000)\n",
    "test_index = np.random.randint(0,10000, size = 2000)\n",
    "\n",
    "train_x = X_train[train_index]\n",
    "train_y = y_train[train_index]\n",
    "\n",
    "test_x = X_test[test_index]\n",
    "test_y = y_test[test_index]"
   ]
  },
  {
   "cell_type": "code",
   "execution_count": 4,
   "metadata": {},
   "outputs": [],
   "source": [
    "# normalising the values\n",
    "X_train = X_train / 255\n",
    "X_test = X_test / 255\n",
    "\n",
    "train_x = train_x /255\n",
    "test_x = test_x /255"
   ]
  },
  {
   "cell_type": "markdown",
   "metadata": {},
   "source": [
    "# Advanced Feature No.1 - Hyperparameter Tuning"
   ]
  },
  {
   "cell_type": "code",
   "execution_count": 5,
   "metadata": {},
   "outputs": [
    {
     "data": {
      "text/plain": [
       "<keras_tuner.engine.hyperparameters.HyperParameters at 0x2d7c9be9f90>"
      ]
     },
     "execution_count": 5,
     "metadata": {},
     "output_type": "execute_result"
    }
   ],
   "source": [
    "kt.HyperParameters()"
   ]
  },
  {
   "cell_type": "code",
   "execution_count": 6,
   "metadata": {},
   "outputs": [],
   "source": [
    "def generateModel(hp):\n",
    "    # Hyperparameter Tuning\n",
    "    model2 = Sequential(name=\"Image_Recognition_Model\")\n",
    "    model2.add(Conv2D(hp.Int('conv_1_filter', min_value=32, max_value=128, step=16),(hp.Choice('conv_1_kernel', values = [3,3])), activation=\"relu\", input_shape = (32,32,3)))\n",
    "    model2.add(MaxPooling2D((2,2)))\n",
    "    model2.add(Dropout(0.2)) #  To prevent model from overfitting, random neurons will be dropped out randomly\n",
    "    model2.add(Conv2D(hp.Int('conv_1_filter', min_value=32, max_value=128, step=16),(hp.Choice('conv_1_kernel', values = [3,3])), activation=\"relu\", input_shape = (32,32,3)))\n",
    "    model2.add(MaxPooling2D((2,2)))\n",
    "    model2.add(Dropout(0.2))\n",
    "    model2.add(Flatten()) # Flatten all dimensions into 1D array to be filtered by dense layer\n",
    "    model2.add(Dense(units=hp.Int('dense_1_units', min_value=32, max_value=64, step=16), activation=\"relu\"))\n",
    "    model2.add(Dense(10, activation=\"softmax\" )) # 10 Layers for 10 classes\n",
    "\n",
    "    model2.compile(\n",
    "        optimizer=\"adam\", \n",
    "        loss=\"sparse_categorical_crossentropy\", \n",
    "        metrics=['accuracy']\n",
    "    )\n",
    "\n",
    "    return model2\n"
   ]
  },
  {
   "cell_type": "code",
   "execution_count": 7,
   "metadata": {},
   "outputs": [
    {
     "name": "stdout",
     "output_type": "stream",
     "text": [
      "INFO:tensorflow:Reloading Oracle from existing project .\\untitled_project\\oracle.json\n",
      "INFO:tensorflow:Reloading Tuner from .\\untitled_project\\tuner0.json\n"
     ]
    },
    {
     "name": "stderr",
     "output_type": "stream",
     "text": [
      "C:\\Users\\st140\\AppData\\Local\\Temp\\ipykernel_7724\\2032634367.py:2: DeprecationWarning: `import kerastuner` is deprecated, please use `import keras_tuner`.\n",
      "  from kerastuner import RandomSearch\n"
     ]
    },
    {
     "name": "stdout",
     "output_type": "stream",
     "text": [
      "INFO:tensorflow:Oracle triggered exit\n"
     ]
    }
   ],
   "source": [
    "#importing random search\n",
    "from kerastuner import RandomSearch\n",
    "#creating randomsearch object\n",
    "tuner = RandomSearch(generateModel, objective='val_accuracy', max_trials = 5)\n",
    "# search best parameter\n",
    "tuner.search(train_x,train_y,epochs=3, validation_data =(train_x,train_y))"
   ]
  },
  {
   "cell_type": "code",
   "execution_count": 8,
   "metadata": {},
   "outputs": [
    {
     "name": "stdout",
     "output_type": "stream",
     "text": [
      "Model: \"Image_Recognition_Model\"\n",
      "_________________________________________________________________\n",
      " Layer (type)                Output Shape              Param #   \n",
      "=================================================================\n",
      " conv2d (Conv2D)             (None, 30, 30, 112)       3136      \n",
      "                                                                 \n",
      " max_pooling2d (MaxPooling2D  (None, 15, 15, 112)      0         \n",
      " )                                                               \n",
      "                                                                 \n",
      " dropout (Dropout)           (None, 15, 15, 112)       0         \n",
      "                                                                 \n",
      " conv2d_1 (Conv2D)           (None, 13, 13, 112)       113008    \n",
      "                                                                 \n",
      " max_pooling2d_1 (MaxPooling  (None, 6, 6, 112)        0         \n",
      " 2D)                                                             \n",
      "                                                                 \n",
      " dropout_1 (Dropout)         (None, 6, 6, 112)         0         \n",
      "                                                                 \n",
      " flatten (Flatten)           (None, 4032)              0         \n",
      "                                                                 \n",
      " dense (Dense)               (None, 64)                258112    \n",
      "                                                                 \n",
      " dense_1 (Dense)             (None, 10)                650       \n",
      "                                                                 \n",
      "=================================================================\n",
      "Total params: 374,906\n",
      "Trainable params: 374,906\n",
      "Non-trainable params: 0\n",
      "_________________________________________________________________\n"
     ]
    }
   ],
   "source": [
    "model2=tuner.get_best_models(num_models=1)[0]\n",
    "#summary of best model\n",
    "model2.summary()"
   ]
  },
  {
   "cell_type": "code",
   "execution_count": 9,
   "metadata": {},
   "outputs": [
    {
     "name": "stdout",
     "output_type": "stream",
     "text": [
      "Epoch 4/10\n",
      "57/57 [==============================] - 4s 70ms/step - loss: 1.3413 - accuracy: 0.5267 - val_loss: 1.3052 - val_accuracy: 0.5350\n",
      "Epoch 5/10\n",
      "57/57 [==============================] - 4s 66ms/step - loss: 1.2247 - accuracy: 0.5650 - val_loss: 1.2996 - val_accuracy: 0.5400\n",
      "Epoch 6/10\n",
      "57/57 [==============================] - 4s 65ms/step - loss: 1.1084 - accuracy: 0.6083 - val_loss: 1.2365 - val_accuracy: 0.5200\n",
      "Epoch 7/10\n",
      "57/57 [==============================] - 4s 68ms/step - loss: 1.0211 - accuracy: 0.6306 - val_loss: 1.1898 - val_accuracy: 0.5500\n",
      "Epoch 8/10\n",
      "57/57 [==============================] - 4s 70ms/step - loss: 0.9433 - accuracy: 0.6778 - val_loss: 1.1813 - val_accuracy: 0.5650\n",
      "Epoch 9/10\n",
      "57/57 [==============================] - 4s 70ms/step - loss: 0.8208 - accuracy: 0.7133 - val_loss: 1.2119 - val_accuracy: 0.5850\n",
      "Epoch 10/10\n",
      "57/57 [==============================] - 4s 69ms/step - loss: 0.7860 - accuracy: 0.7350 - val_loss: 1.1976 - val_accuracy: 0.5800\n"
     ]
    }
   ],
   "source": [
    "history = model2.fit(test_x,test_y,epochs=10,validation_split=0.1,initial_epoch=3)"
   ]
  },
  {
   "cell_type": "code",
   "execution_count": 10,
   "metadata": {},
   "outputs": [
    {
     "data": {
      "text/plain": [
       "<matplotlib.legend.Legend at 0x2d78f6cd390>"
      ]
     },
     "execution_count": 10,
     "metadata": {},
     "output_type": "execute_result"
    },
    {
     "data": {
      "image/png": "[encoded data removed]",
      "text/plain": [
       "<Figure size 640x480 with 1 Axes>"
      ]
     },
     "metadata": {},
     "output_type": "display_data"
    }
   ],
   "source": [
    "plt.plot(history.history['accuracy'], label = 'accuracy')\n",
    "plt.plot(history.history['val_accuracy'], label='val_acuracy')\n",
    "plt.xlabel('Epochs')\n",
    "plt.ylabel('Accuracy')\n",
    "plt.ylim([0,1])\n",
    "plt.legend(loc='lower right')"
   ]
  },
  {
   "cell_type": "code",
   "execution_count": 11,
   "metadata": {},
   "outputs": [
    {
     "data": {
      "text/plain": [
       "<matplotlib.legend.Legend at 0x2d78f6867a0>"
      ]
     },
     "execution_count": 11,
     "metadata": {},
     "output_type": "execute_result"
    },
    {
     "data": {
      "image/png": "[encoded data removed]",
      "text/plain": [
       "<Figure size 640x480 with 1 Axes>"
      ]
     },
     "metadata": {},
     "output_type": "display_data"
    }
   ],
   "source": [
    "plt.plot(history.history['loss'], label = 'loss')\n",
    "plt.plot(history.history[\"val_loss\"], label='val_loss')\n",
    "plt.xlabel('Epochs')\n",
    "plt.ylabel('Accuracy')\n",
    "plt.ylim([0,2])\n",
    "plt.legend(loc = 'lower right')"
   ]
  },
  {
   "cell_type": "code",
   "execution_count": 12,
   "metadata": {},
   "outputs": [
    {
     "name": "stderr",
     "output_type": "stream",
     "text": [
      "WARNING:absl:Found untraced functions such as _jit_compiled_convolution_op, _jit_compiled_convolution_op while saving (showing 2 of 2). These functions will not be directly callable after loading.\n"
     ]
    },
    {
     "name": "stdout",
     "output_type": "stream",
     "text": [
      "INFO:tensorflow:Assets written to: my_model\\assets\n"
     ]
    },
    {
     "name": "stderr",
     "output_type": "stream",
     "text": [
      "INFO:tensorflow:Assets written to: my_model\\assets\n"
     ]
    }
   ],
   "source": [
    "model2.save('my_model')"
   ]
  },
  {
   "cell_type": "markdown",
   "metadata": {},
   "source": [
    "# Advanced Feature No. 3 - Python Function"
   ]
  },
  {
   "cell_type": "code",
   "execution_count": 13,
   "metadata": {},
   "outputs": [],
   "source": [
    "import cv2\n",
    "\n",
    "\n",
    "def ImageRead(imagePath):\n",
    "\n",
    "    result = [\"airplane\",\"automobile\",\"bird\",\"cat\",\"deer\",\"dog\",\"frog\",\"horse\",\"ship\",\"truck\"]\n",
    "\n",
    "    img = cv2.imread(imagePath)\n",
    "    plt.imshow(img)\n",
    "    plt.show()\n",
    "    resize = tf.image.resize(img,(32,32))\n",
    "    predictions = model2.predict(np.expand_dims(resize/255, 0)) \n",
    "    yhat = tf.nn.softmax(predictions[0])\n",
    "    print(yhat)\n",
    "    # print(\" Result is {classes}\".format(classes=result[yhat]))\n",
    "    \n"
   ]
  },
  {
   "cell_type": "code",
   "execution_count": 14,
   "metadata": {},
   "outputs": [],
   "source": [
    "def ImageRead2():\n",
    "\n",
    "    sunflower_url = \"https://media.istockphoto.com/photos/corgi-pembroke-puppy-on-sea-coast-dog-beach-and-walking-concept-world-picture-id1302660208?b=1&k=20&m=1302660208&s=612x612&w=0&h=9J5V82fSRGb0yzFScHvnGxfqudZxB8RWNOfLhzcTAKY=\"\n",
    "    sunflower_path = tf.keras.utils.get_file('Red_sunflower', origin=sunflower_url)\n",
    "    class_names = [\"airplane\",\"automobile\",\"bird\",\"cat\",\"deer\",\"dog\",\"frog\",\"horse\",\"ship\",\"truck\"]\n",
    "\n",
    "    img = tf.keras.utils.load_img(\n",
    "        sunflower_path, target_size=(32, 32)\n",
    "    )\n",
    "    img_array = tf.keras.utils.img_to_array(img)\n",
    "    img_array = tf.expand_dims(img_array, 0) # Create a batch\n",
    "\n",
    "    predictions = model2.predict(img_array)\n",
    "    score = tf.nn.softmax(predictions[0])\n",
    "\n",
    "    print(\n",
    "        \"This image most likely belongs to {} with a {:.2f} percent confidence.\"\n",
    "        .format(class_names[np.argmax(score)], 100 * np.max(score))\n",
    "    )"
   ]
  },
  {
   "cell_type": "code",
   "execution_count": 15,
   "metadata": {},
   "outputs": [
    {
     "name": "stdout",
     "output_type": "stream",
     "text": [
      "1/1 [==============================] - 0s 92ms/step\n",
      "This image most likely belongs to truck with a 23.20 percent confidence.\n"
     ]
    }
   ],
   "source": [
    "ImageRead2()"
   ]
  }
 ],
 "metadata": {
  "kernelspec": {
   "display_name": "Python 3.10.7 64-bit",
   "language": "python",
   "name": "python3"
  },
  "language_info": {
   "codemirror_mode": {
    "name": "ipython",
    "version": 3
   },
   "file_extension": ".py",
   "mimetype": "text/x-python",
   "name": "python",
   "nbconvert_exporter": "python",
   "pygments_lexer": "ipython3",
   "version": "3.10.7"
  },
  "orig_nbformat": 4,
  "vscode": {
   "interpreter": {
    "hash": "e4e07411acb42954aca903271404bb0bb90aff29f508e98f06a2f6d5f2b1dd10"
   }
  }
 },
 "nbformat": 4,
 "nbformat_minor": 2
}
