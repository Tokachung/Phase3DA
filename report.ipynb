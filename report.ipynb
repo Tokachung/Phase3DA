{
 "cells": [
  {
   "cell_type": "markdown",
   "metadata": {},
   "source": [
    "# Phase 3 Data Science Report"
   ]
  },
  {
   "cell_type": "markdown",
   "metadata": {},
   "source": [
    "The purpose of this project is to use a machine learning model to classify images. The CIFAR 10 dataset was used, containing 50,000 training images/labels and 10,000 testing images/labels respectively. The size of each image was 32 by 32 pixels, with 10 classifications for the images."
   ]
  },
  {
   "cell_type": "markdown",
   "metadata": {},
   "source": [
    "# Introduction"
   ]
  },
  {
   "cell_type": "markdown",
   "metadata": {},
   "source": [
    "The model is able to classify each of the 10 classes. The airplane label was chosen to check for imbalances in the subset when sampling the training data. "
   ]
  },
  {
   "cell_type": "markdown",
   "metadata": {},
   "source": [
    "# Model Process"
   ]
  },
  {
   "cell_type": "markdown",
   "metadata": {},
   "source": [
    "The shape of the model is as follows\n",
    "\n",
    "Conv2d -> MaxPooling2d -> Conv2d -> Dropout -> Conv2d -> MaxPooling -> Flatten -> Dense -> Dense\n",
    "\n",
    "Hypertuning was used to determine the best parameters for each function. Relu was picked as the optimizer because its gradient computation is simple which results in faster learning. It also shows better convergence performance than other activation types. It also does not suffer from vanishing gradients which makes it easier to train."
   ]
  },
  {
   "cell_type": "markdown",
   "metadata": {},
   "source": [
    "# Model Performance"
   ]
  },
  {
   "cell_type": "markdown",
   "metadata": {},
   "source": [
    "The model performance can be seen in the finalmodel.ipynb notebook.\n",
    "A final accuracy of 75% was achieved on the test dataset, with a validation accuracy around 60%, with loss around 1.25, and validation around 0.9\n",
    "\n",
    "In general, the model performs well."
   ]
  },
  {
   "cell_type": "markdown",
   "metadata": {},
   "source": [
    "# Conclusion"
   ]
  },
  {
   "cell_type": "markdown",
   "metadata": {},
   "source": [
    "Overall the machine learning model developed performs well for the purpose of identifying different types of images within the 10 classes. Multiple models were explored through trainingmodelnotebook.ipynb. \n",
    "\n",
    "<Ul>Advanced features include: </Ul>\n",
    "<li>The final model chosen utilises a CNN with the hyperparameters tuned.</li>\n",
    "<li>The python function located near the bottom of finalmodel.ipynb classifies any local images by image class. Local images have been provided as examples of how to invoke the function</li>"
   ]
  },
  {
   "cell_type": "markdown",
   "metadata": {},
   "source": [
    "# References\n",
    "\n",
    "1. [Learning Multiple Layers of Features from Tiny Images](http://www.cs.toronto.edu/~kriz/learning-features-2009-TR.pdf), Alex Krizhevsky, 2009."
   ]
  }
 ],
 "metadata": {
  "kernelspec": {
   "display_name": "Python 3.10.7 64-bit",
   "language": "python",
   "name": "python3"
  },
  "language_info": {
   "name": "python",
   "version": "3.10.7"
  },
  "orig_nbformat": 4,
  "vscode": {
   "interpreter": {
    "hash": "e4e07411acb42954aca903271404bb0bb90aff29f508e98f06a2f6d5f2b1dd10"
   }
  }
 },
 "nbformat": 4,
 "nbformat_minor": 2
}
